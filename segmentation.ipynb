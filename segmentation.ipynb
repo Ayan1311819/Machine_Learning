{
  "nbformat": 4,
  "nbformat_minor": 0,
  "metadata": {
    "colab": {
      "provenance": [],
      "authorship_tag": "ABX9TyMEjfqN6sND8F55GksfvkJb",
      "include_colab_link": true
    },
    "kernelspec": {
      "name": "python3",
      "display_name": "Python 3"
    },
    "language_info": {
      "name": "python"
    }
  },
  "cells": [
    {
      "cell_type": "markdown",
      "metadata": {
        "id": "view-in-github",
        "colab_type": "text"
      },
      "source": [
        "<a href=\"https://colab.research.google.com/github/Ayan1311819/Machine_Learning/blob/main/segmentation.ipynb\" target=\"_parent\"><img src=\"https://colab.research.google.com/assets/colab-badge.svg\" alt=\"Open In Colab\"/></a>"
      ]
    },
    {
      "cell_type": "code",
      "source": [
        "import seaborn as sns\n",
        "import pandas as pd"
      ],
      "metadata": {
        "id": "LSpyABJQIDcn"
      },
      "execution_count": null,
      "outputs": []
    },
    {
      "cell_type": "code",
      "source": [
        "#OBJECTIVE\n",
        "#We want to understand our customers better so we can run more targeted campaigns and increase sales. Can you help us segment our users?"
      ],
      "metadata": {
        "id": "oouCLwWmXoFl"
      },
      "execution_count": null,
      "outputs": []
    },
    {
      "cell_type": "code",
      "execution_count": null,
      "metadata": {
        "id": "G_3t9pM7IaMe"
      },
      "outputs": [],
      "source": [
        "df = pd.read_excel('/content/Online Retail.xlsx')"
      ]
    },
    {
      "cell_type": "code",
      "source": [
        "df.head(n=3)"
      ],
      "metadata": {
        "id": "vbaZ6p5mEzrG"
      },
      "execution_count": null,
      "outputs": []
    },
    {
      "cell_type": "code",
      "source": [
        "df.columns"
      ],
      "metadata": {
        "id": "ef8wktwBGZ8Z"
      },
      "execution_count": null,
      "outputs": []
    },
    {
      "cell_type": "code",
      "source": [
        "df.info()"
      ],
      "metadata": {
        "id": "KQnvL6TVGeQp"
      },
      "execution_count": null,
      "outputs": []
    },
    {
      "cell_type": "code",
      "source": [
        "df.describe()"
      ],
      "metadata": {
        "id": "l97o49GBGgn-"
      },
      "execution_count": null,
      "outputs": []
    },
    {
      "cell_type": "code",
      "source": [
        "df.isna().sum()"
      ],
      "metadata": {
        "id": "Iog8DOIaIF7E"
      },
      "execution_count": null,
      "outputs": []
    },
    {
      "cell_type": "code",
      "source": [
        "df.count()"
      ],
      "metadata": {
        "id": "86TjAzzEL2H7"
      },
      "execution_count": null,
      "outputs": []
    },
    {
      "cell_type": "code",
      "source": [
        "maxq=df['Quantity'].max()\n",
        "df[df['Quantity']<0].count()"
      ],
      "metadata": {
        "collapsed": true,
        "id": "IbKuGFcxMgmP"
      },
      "execution_count": null,
      "outputs": []
    },
    {
      "cell_type": "code",
      "source": [
        "df = df[(df['Quantity'] > 0) & (df['Quantity'] < 80000)]\n"
      ],
      "metadata": {
        "id": "_Asp5wjLDU9W"
      },
      "execution_count": null,
      "outputs": []
    },
    {
      "cell_type": "code",
      "source": [
        "df.count()"
      ],
      "metadata": {
        "id": "fSUoK-8iDjM3"
      },
      "execution_count": null,
      "outputs": []
    },
    {
      "cell_type": "code",
      "source": [
        "#Understanding relationship between InvoiceID and CustomerID.\n",
        "#Invoiceid is mapped to a products basket but each instance consist of one type of product only.\n",
        "#So a CustomerID can have multiple InvoiceID but not vice versa.\n",
        "df.groupby('InvoiceNo')['CustomerID'].nunique()\n",
        "df.groupby('CustomerID')['InvoiceNo'].nunique()"
      ],
      "metadata": {
        "id": "de0d0Kegoknk"
      },
      "execution_count": null,
      "outputs": []
    },
    {
      "cell_type": "code",
      "source": [
        "print(\"Unique Invoices\",df['InvoiceNo'].nunique())\n",
        "print(\"Unique CustomerID\", df['CustomerID'].nunique())"
      ],
      "metadata": {
        "id": "oLcbGLUmblOr"
      },
      "execution_count": null,
      "outputs": []
    },
    {
      "cell_type": "code",
      "source": [
        "print(\"All Invoices\",df['InvoiceNo'].count())\n",
        "print(\"All CustomerID\", df['CustomerID'].count())"
      ],
      "metadata": {
        "id": "EsjVNiFQeznL"
      },
      "execution_count": null,
      "outputs": []
    },
    {
      "cell_type": "code",
      "source": [
        "#Exploration set\n",
        "df_sample = df.sample(frac=0.05, random_state=42)\n",
        "df_sample[\"CustomerID\"].nunique()"
      ],
      "metadata": {
        "id": "pCfWyoUlMn7M"
      },
      "execution_count": null,
      "outputs": []
    },
    {
      "cell_type": "code",
      "source": [
        "sns.pairplot(df_sample)"
      ],
      "metadata": {
        "id": "qIGq5rL8fl0s"
      },
      "execution_count": null,
      "outputs": []
    },
    {
      "cell_type": "code",
      "source": [
        "df['StockCode'].nunique()"
      ],
      "metadata": {
        "id": "KnDy5d6XMVzE"
      },
      "execution_count": null,
      "outputs": []
    },
    {
      "cell_type": "code",
      "source": [
        "df['StockCode'].count()"
      ],
      "metadata": {
        "id": "Vd9iLTrfM2Xu"
      },
      "execution_count": null,
      "outputs": []
    },
    {
      "cell_type": "code",
      "source": [
        "#Segmentation : What a particular customer bought(description, Stockcode), Recency: using InvoiceDate,  using country"
      ],
      "metadata": {
        "id": "HQloXkDHm9Ml"
      },
      "execution_count": null,
      "outputs": []
    },
    {
      "cell_type": "code",
      "source": [
        "from datetime import datetime\n",
        "\n",
        "# Reference date (usually one day after the last InvoiceDate)\n",
        "latest_date = df['InvoiceDate'].max() + pd.Timedelta(days=1)\n",
        "df['TotalPrice'] = df['Quantity'] * df['UnitPrice']\n",
        "# Group by CustomerID and aggregate R, F, M\n",
        "rfm = df.groupby('CustomerID').agg({\n",
        "    'InvoiceDate': lambda x: (latest_date - x.max()).days,\n",
        "    'InvoiceNo': 'nunique',\n",
        "    'TotalPrice': 'sum'\n",
        "}).reset_index()\n",
        "\n",
        "rfm.columns = ['CustomerID', 'Recency', 'Frequency', 'Monetary']"
      ],
      "metadata": {
        "id": "vQaNmFtQNLa7"
      },
      "execution_count": null,
      "outputs": []
    },
    {
      "cell_type": "code",
      "source": [
        "rfm.head(n=3)"
      ],
      "metadata": {
        "id": "8fvUlvYmgObC"
      },
      "execution_count": null,
      "outputs": []
    },
    {
      "cell_type": "code",
      "source": [
        "rfm.sort_values(by='Monetary', ascending=False).head()\n",
        "rfm.describe()"
      ],
      "metadata": {
        "id": "F6vivLkngRab"
      },
      "execution_count": null,
      "outputs": []
    },
    {
      "cell_type": "code",
      "source": [
        "from sklearn.preprocessing import StandardScaler\n",
        "from sklearn.cluster import KMeans\n",
        "import matplotlib.pyplot as plt"
      ],
      "metadata": {
        "id": "sLrfIrB2hk6Z"
      },
      "execution_count": null,
      "outputs": []
    },
    {
      "cell_type": "code",
      "source": [
        "scaler = StandardScaler()\n",
        "rfms = scaler.fit_transform(rfm[['Recency', 'Frequency', 'Monetary']])"
      ],
      "metadata": {
        "id": "nH-5kW0amqwy"
      },
      "execution_count": null,
      "outputs": []
    },
    {
      "cell_type": "code",
      "source": [
        "#Detrmining K\n",
        "inertia=[]\n",
        "for i in range (1,12):\n",
        "  kmeans = KMeans(n_clusters=i, random_state=42)\n",
        "  kmeans.fit(rfms)\n",
        "  inertia.append(kmeans.inertia_)\n",
        "\n",
        "plt.plot(range(1,12),inertia,marker='o')\n",
        "plt.title('Elbow method')\n",
        "plt.xlabel('K value')\n",
        "plt.ylabel('inertia')\n"
      ],
      "metadata": {
        "id": "8BCIMTjXm6xI"
      },
      "execution_count": null,
      "outputs": []
    },
    {
      "cell_type": "code",
      "source": [
        "kmeans  = KMeans(n_clusters=5, random_state=42)\n",
        "rfm['Cluster'] = kmeans.fit_predict(rfms)"
      ],
      "metadata": {
        "id": "C0ygcWRPnDge"
      },
      "execution_count": null,
      "outputs": []
    },
    {
      "cell_type": "code",
      "source": [
        "import seaborn as sns\n",
        "sns.scatterplot(data=rfm, x='Recency', y='Frequency', hue='Cluster', palette='Set1')\n",
        "plt.title('Customer Segments')\n",
        "plt.xlabel('Recency')\n",
        "plt.ylabel('Frequency')\n",
        "plt.show()\n"
      ],
      "metadata": {
        "id": "T_YrWTrjos0T"
      },
      "execution_count": null,
      "outputs": []
    },
    {
      "cell_type": "code",
      "source": [
        "#Defining custom labels and using them for evaluation/training can work—and gives you full control and interpretability.\n",
        "#But it shifts you away from pure clustering into a more supervised or constrained workflow, which may or may not be what you want.\n",
        "#High domain knowledge more time and manual work, doesn't makes sense when features increases."
      ],
      "metadata": {
        "id": "O7pCGuBZpBXq"
      },
      "execution_count": null,
      "outputs": []
    },
    {
      "cell_type": "code",
      "source": [
        "rfm.groupby('Cluster').agg({\n",
        "    'Recency': ['mean', 'median'],\n",
        "    'Frequency': ['mean', 'median'],\n",
        "    'Monetary': ['mean', 'median'],\n",
        "    'CustomerID': 'count'\n",
        "}).round(1)"
      ],
      "metadata": {
        "id": "83Pqaveatd2C"
      },
      "execution_count": null,
      "outputs": []
    },
    {
      "cell_type": "code",
      "source": [],
      "metadata": {
        "id": "v8Ly8MzWzQJp"
      },
      "execution_count": null,
      "outputs": []
    }
  ]
}